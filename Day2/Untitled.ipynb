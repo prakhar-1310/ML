{
 "cells": [
  {
   "cell_type": "code",
   "execution_count": 1,
   "id": "777c2aa5-54ae-40e1-b72f-2bb14e1d2a5f",
   "metadata": {},
   "outputs": [
    {
     "name": "stdout",
     "output_type": "stream",
     "text": [
      "hii\n"
     ]
    }
   ],
   "source": [
    "print (\"hii\")"
   ]
  },
  {
   "cell_type": "code",
   "execution_count": null,
   "id": "ceef4bd3-28b2-41b6-bee4-760b2c488f3e",
   "metadata": {},
   "outputs": [],
   "source": []
  }
 ],
 "metadata": {
  "kernelspec": {
   "display_name": "Python 3 (ipykernel)",
   "language": "python",
   "name": "python3"
  },
  "language_info": {
   "codemirror_mode": {
    "name": "ipython",
    "version": 3
   },
   "file_extension": ".py",
   "mimetype": "text/x-python",
   "name": "python",
   "nbconvert_exporter": "python",
   "pygments_lexer": "ipython3",
   "version": "3.12.10"
  }
 },
 "nbformat": 4,
 "nbformat_minor": 5
}
