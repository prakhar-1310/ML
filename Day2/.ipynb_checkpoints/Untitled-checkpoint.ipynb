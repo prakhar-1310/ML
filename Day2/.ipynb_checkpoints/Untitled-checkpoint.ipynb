{
 "cells": [
  {
   "cell_type": "code",
   "execution_count": 126,
   "id": "777c2aa5-54ae-40e1-b72f-2bb14e1d2a5f",
   "metadata": {},
   "outputs": [],
   "source": [
    "#Ternary operator"
   ]
  },
  {
   "cell_type": "code",
   "execution_count": 127,
   "id": "ceef4bd3-28b2-41b6-bee4-760b2c488f3e",
   "metadata": {},
   "outputs": [
    {
     "name": "stdout",
     "output_type": "stream",
     "text": [
      "Adult\n"
     ]
    }
   ],
   "source": [
    "age = 20\n",
    "c = \"Adult\" if age >= 18 else \"child\"\n",
    "print (c)"
   ]
  },
  {
   "cell_type": "code",
   "execution_count": 128,
   "id": "a8b787a3-731e-40b4-ba44-a107958f24aa",
   "metadata": {},
   "outputs": [],
   "source": [
    "# While loop"
   ]
  },
  {
   "cell_type": "code",
   "execution_count": 129,
   "id": "adaa2456-f5a5-4ba1-ab2a-ba80ae550719",
   "metadata": {},
   "outputs": [
    {
     "name": "stdout",
     "output_type": "stream",
     "text": [
      "Hello\n",
      "Hello\n",
      "Hello\n",
      "Hello\n",
      "Hello\n"
     ]
    }
   ],
   "source": [
    "i = 0\n",
    "while i<5:\n",
    "    print ('Hello')\n",
    "    i+=1"
   ]
  },
  {
   "cell_type": "code",
   "execution_count": 130,
   "id": "0de0423c-68da-472c-ac65-598992987b7e",
   "metadata": {},
   "outputs": [
    {
     "name": "stdout",
     "output_type": "stream",
     "text": [
      "Sum: 120\n"
     ]
    }
   ],
   "source": [
    "i =1\n",
    "N=0\n",
    "while i <= 15:\n",
    "    N+=i\n",
    "    i+=1\n",
    "print ('Sum:',N)"
   ]
  },
  {
   "cell_type": "code",
   "execution_count": 131,
   "id": "b7e400cf-851c-4ccc-b15a-f40f9852660f",
   "metadata": {},
   "outputs": [
    {
     "name": "stdout",
     "output_type": "stream",
     "text": [
      "2\n",
      "3\n",
      "5\n",
      "7\n",
      "11\n",
      "13\n",
      "17\n",
      "19\n",
      "23\n",
      "29\n",
      "31\n",
      "37\n",
      "41\n",
      "43\n",
      "47\n",
      "53\n",
      "59\n",
      "61\n",
      "67\n",
      "71\n",
      "73\n",
      "79\n",
      "83\n",
      "89\n",
      "97\n"
     ]
    }
   ],
   "source": [
    "n=2\n",
    "while n<=100:\n",
    "    i=2\n",
    "    while i*i<=n:\n",
    "        if n%i == 0:\n",
    "            break\n",
    "        i+=1\n",
    "    else:\n",
    "        print (n)\n",
    "    n+=1"
   ]
  },
  {
   "cell_type": "code",
   "execution_count": 132,
   "id": "0146eb08-7125-4458-b6fd-0523e30998b9",
   "metadata": {},
   "outputs": [],
   "source": [
    "# LIST "
   ]
  },
  {
   "cell_type": "code",
   "execution_count": 133,
   "id": "19b39e26-ca51-46f4-8733-ac383d024717",
   "metadata": {},
   "outputs": [
    {
     "name": "stdout",
     "output_type": "stream",
     "text": [
      "[10, 2.4, (1+3j), 'Hello']\n"
     ]
    }
   ],
   "source": [
    "l = [10,2.4,1+3j,\"Hello\"]\n",
    "print (l)"
   ]
  },
  {
   "cell_type": "code",
   "execution_count": 134,
   "id": "4352f0c3-8f82-4070-b5b8-eca77cdbbef0",
   "metadata": {},
   "outputs": [
    {
     "name": "stdout",
     "output_type": "stream",
     "text": [
      "(1+3j)\n"
     ]
    }
   ],
   "source": [
    "print(l[2])"
   ]
  },
  {
   "cell_type": "code",
   "execution_count": 135,
   "id": "2ff3cf23-7ce3-417b-8528-42db3a1378cc",
   "metadata": {},
   "outputs": [
    {
     "name": "stdout",
     "output_type": "stream",
     "text": [
      "Hello\n"
     ]
    }
   ],
   "source": [
    "print (l[-1])"
   ]
  },
  {
   "cell_type": "code",
   "execution_count": 136,
   "id": "db80ab6f-02fc-4e33-8bf3-22e5bfe71594",
   "metadata": {},
   "outputs": [
    {
     "name": "stdout",
     "output_type": "stream",
     "text": [
      "True\n",
      "True\n"
     ]
    }
   ],
   "source": [
    "l1 = [1,2,3,4]\n",
    "l2 = [1,2,3,4]\n",
    "print (l1==l2)\n",
    "l3 = l1\n",
    "print (l3==l1)"
   ]
  },
  {
   "cell_type": "code",
   "execution_count": 137,
   "id": "bb310cd1-0880-48a5-8bfa-6431ea0f450d",
   "metadata": {},
   "outputs": [
    {
     "name": "stdout",
     "output_type": "stream",
     "text": [
      "100\n"
     ]
    }
   ],
   "source": [
    "l1[0]=100\n",
    "print (l3[0])"
   ]
  },
  {
   "cell_type": "code",
   "execution_count": 138,
   "id": "f7779a12-9c73-4a87-91dd-92619034d00e",
   "metadata": {},
   "outputs": [
    {
     "name": "stdout",
     "output_type": "stream",
     "text": [
      "True\n",
      "False\n",
      "False\n"
     ]
    }
   ],
   "source": [
    "l1 = [1,2,3,4]\n",
    "l2 = [1,2,3,4]\n",
    "l3 = l1.copy()\n",
    "print (l1==l3) # == check the values\n",
    "print (l1 is l3) # is check the location stored by variable\n",
    "print (id(l1)==id(l3))"
   ]
  },
  {
   "cell_type": "code",
   "execution_count": 139,
   "id": "e79a2a56-0126-4475-8f5b-bcda5904713d",
   "metadata": {},
   "outputs": [
    {
     "name": "stdout",
     "output_type": "stream",
     "text": [
      "[1, 2, 3, 4, 200]\n"
     ]
    }
   ],
   "source": [
    "l1.append(200)\n",
    "print (l1)"
   ]
  },
  {
   "cell_type": "code",
   "execution_count": 140,
   "id": "bab4d3a8-836b-4c56-9e9d-12aa4279e8e7",
   "metadata": {},
   "outputs": [
    {
     "name": "stdout",
     "output_type": "stream",
     "text": [
      "0\n",
      "1\n",
      "2\n",
      "3\n",
      "4\n",
      "5\n",
      "6\n",
      "7\n",
      "8\n",
      "9\n"
     ]
    }
   ],
   "source": [
    "for i in range (10):\n",
    "    print (i)"
   ]
  },
  {
   "cell_type": "code",
   "execution_count": 141,
   "id": "1f180e58-fe10-49c9-9a99-c2f87474897d",
   "metadata": {},
   "outputs": [
    {
     "name": "stdout",
     "output_type": "stream",
     "text": [
      "[0, 1, 2, 3, 4, 5]\n"
     ]
    }
   ],
   "source": [
    "l1 = [ i for i in range (6)]  # list comprehension\n",
    "print (l1)"
   ]
  },
  {
   "cell_type": "code",
   "execution_count": 142,
   "id": "0a4a40d1-d392-4428-8c4b-3c296c55825d",
   "metadata": {},
   "outputs": [
    {
     "name": "stdout",
     "output_type": "stream",
     "text": [
      "0 0\n",
      "1 1\n",
      "2 2\n",
      "3 3\n",
      "4 4\n",
      "5 5\n"
     ]
    }
   ],
   "source": [
    "for i in range (len(l1)):\n",
    "    print (i,l1[i])"
   ]
  },
  {
   "cell_type": "code",
   "execution_count": 143,
   "id": "105d7e58-6257-422c-bacd-ddce704bbf44",
   "metadata": {},
   "outputs": [
    {
     "name": "stdout",
     "output_type": "stream",
     "text": [
      "5 5\n",
      "4 4\n",
      "3 3\n",
      "2 2\n",
      "1 1\n",
      "0 0\n"
     ]
    }
   ],
   "source": [
    "for i in range (len(l1)-1,-1,-1):  # reverse\n",
    "    print (i,l1[i])"
   ]
  },
  {
   "cell_type": "code",
   "execution_count": 144,
   "id": "125448de-ee6e-4fb7-936b-71cb77df3597",
   "metadata": {},
   "outputs": [
    {
     "name": "stdout",
     "output_type": "stream",
     "text": [
      "-1 5\n",
      "-2 4\n",
      "-3 3\n",
      "-4 2\n",
      "-5 1\n",
      "-6 0\n"
     ]
    }
   ],
   "source": [
    "for i in range (-1,-len(l1)-1,-1):\n",
    "    print(i,l1[i])"
   ]
  },
  {
   "cell_type": "code",
   "execution_count": 145,
   "id": "692c8ddc-b305-4d42-9c6a-0a2dfa72a5ed",
   "metadata": {},
   "outputs": [
    {
     "name": "stdout",
     "output_type": "stream",
     "text": [
      "[1, 2, 3, 4, 5, 6, 7, 8, 9, 0]\n"
     ]
    }
   ],
   "source": [
    "l1=[1,2,3,4,5]\n",
    "l2=[6,7,8,9,0]\n",
    "l1.extend(l2)\n",
    "print(l1)"
   ]
  },
  {
   "cell_type": "code",
   "execution_count": 146,
   "id": "2c28477a-45b2-4412-a399-8211ac365676",
   "metadata": {},
   "outputs": [
    {
     "name": "stdout",
     "output_type": "stream",
     "text": [
      "[1, 2, 3, 4, 5, 6, 7, 8, 9, 0, 6, 7, 8, 9, 0]\n"
     ]
    }
   ],
   "source": [
    "l3 = l1+l2\n",
    "print(l3)"
   ]
  },
  {
   "cell_type": "code",
   "execution_count": 147,
   "id": "eba62cda-afb0-436b-917a-bd81b137c50f",
   "metadata": {},
   "outputs": [
    {
     "name": "stdout",
     "output_type": "stream",
     "text": [
      "[1, 2, 100, 3, 4, 5, 6, 7, 8, 9, 0]\n"
     ]
    }
   ],
   "source": [
    "l1.insert(2,100)\n",
    "print(l1)"
   ]
  },
  {
   "cell_type": "code",
   "execution_count": 148,
   "id": "58e7a0eb-92af-4839-b9c4-8539a44d9fe0",
   "metadata": {},
   "outputs": [
    {
     "data": {
      "text/plain": [
       "0"
      ]
     },
     "execution_count": 148,
     "metadata": {},
     "output_type": "execute_result"
    }
   ],
   "source": [
    "l1.pop() # by default last element"
   ]
  },
  {
   "cell_type": "code",
   "execution_count": 149,
   "id": "7509a9d0-6d90-4f79-9a29-8ab35815f9eb",
   "metadata": {},
   "outputs": [
    {
     "name": "stdout",
     "output_type": "stream",
     "text": [
      "[1, 2, 100, 3, 4, 5, 6, 7, 8, 9]\n"
     ]
    }
   ],
   "source": [
    "print(l1)"
   ]
  },
  {
   "cell_type": "code",
   "execution_count": 150,
   "id": "113de3b7-6b32-4d44-b975-6a36afe9231a",
   "metadata": {},
   "outputs": [
    {
     "name": "stdout",
     "output_type": "stream",
     "text": [
      "[1, 2, 3, 4, 5, 6, 7, 8, 9]\n"
     ]
    }
   ],
   "source": [
    "l1.pop(2)  # here 2 is the index\n",
    "print(l1)"
   ]
  },
  {
   "cell_type": "code",
   "execution_count": 151,
   "id": "2efc6db7-b9fc-41b3-99bc-6a1bc4f43aca",
   "metadata": {},
   "outputs": [
    {
     "name": "stdout",
     "output_type": "stream",
     "text": [
      "1\n",
      "2\n",
      "3\n",
      "4\n",
      "5\n",
      "6\n",
      "7\n",
      "8\n",
      "9\n"
     ]
    }
   ],
   "source": [
    "for ele in l1:\n",
    "    print(ele)"
   ]
  },
  {
   "cell_type": "code",
   "execution_count": 152,
   "id": "683cfa0b-b902-4fda-986c-e3f99b35c8e3",
   "metadata": {},
   "outputs": [
    {
     "name": "stdout",
     "output_type": "stream",
     "text": [
      "0 1\n",
      "1 2\n",
      "2 3\n",
      "3 4\n",
      "4 5\n",
      "5 6\n",
      "6 7\n",
      "7 8\n",
      "8 9\n"
     ]
    }
   ],
   "source": [
    "i=0\n",
    "while i < len(l1):\n",
    "    print (i, l1[i])\n",
    "    i+=1\n",
    "    "
   ]
  },
  {
   "cell_type": "code",
   "execution_count": 153,
   "id": "18d2ed2b-ee02-4483-9e57-acd15df56a0f",
   "metadata": {},
   "outputs": [
    {
     "name": "stdout",
     "output_type": "stream",
     "text": [
      "-1 9\n",
      "-2 8\n",
      "-3 7\n",
      "-4 6\n",
      "-5 5\n",
      "-6 4\n",
      "-7 3\n",
      "-8 2\n",
      "-9 1\n"
     ]
    }
   ],
   "source": [
    "i = -1\n",
    "while i>=-len(l1):\n",
    "    print (i, l1[i])\n",
    "    i-=1"
   ]
  },
  {
   "cell_type": "code",
   "execution_count": 154,
   "id": "27f01c2e-c9f5-43f9-8dfb-d17b7a07c1a1",
   "metadata": {},
   "outputs": [
    {
     "data": {
      "text/plain": [
       "False"
      ]
     },
     "execution_count": 154,
     "metadata": {},
     "output_type": "execute_result"
    }
   ],
   "source": [
    "10 in l1"
   ]
  },
  {
   "cell_type": "code",
   "execution_count": 155,
   "id": "9ce4cee3-9e7e-454e-aba3-74103c21b692",
   "metadata": {},
   "outputs": [
    {
     "data": {
      "text/plain": [
       "True"
      ]
     },
     "execution_count": 155,
     "metadata": {},
     "output_type": "execute_result"
    }
   ],
   "source": [
    "9 in l1"
   ]
  },
  {
   "cell_type": "code",
   "execution_count": 156,
   "id": "af9c694f-2c1e-4231-ab14-1331ca6a90c0",
   "metadata": {},
   "outputs": [
    {
     "data": {
      "text/plain": [
       "1"
      ]
     },
     "execution_count": 156,
     "metadata": {},
     "output_type": "execute_result"
    }
   ],
   "source": [
    "l1.count(1)"
   ]
  },
  {
   "cell_type": "code",
   "execution_count": 157,
   "id": "507fd8b5-1aa7-4868-96ae-15b43e8a8503",
   "metadata": {},
   "outputs": [
    {
     "name": "stdout",
     "output_type": "stream",
     "text": [
      "[0, 1, 2, 2, 3, 4, 6, 7]\n"
     ]
    }
   ],
   "source": [
    "l=[4,3,7,1,2,6,0,2]\n",
    "l.sort()\n",
    "print(l)"
   ]
  },
  {
   "cell_type": "code",
   "execution_count": 158,
   "id": "bfc79178-1ca9-440c-a6c6-6d53985f78bd",
   "metadata": {},
   "outputs": [
    {
     "ename": "ValueError",
     "evalue": "list.remove(x): x not in list",
     "output_type": "error",
     "traceback": [
      "\u001b[31m---------------------------------------------------------------------------\u001b[39m",
      "\u001b[31mValueError\u001b[39m                                Traceback (most recent call last)",
      "\u001b[36mCell\u001b[39m\u001b[36m \u001b[39m\u001b[32mIn[158]\u001b[39m\u001b[32m, line 1\u001b[39m\n\u001b[32m----> \u001b[39m\u001b[32m1\u001b[39m \u001b[43ml\u001b[49m\u001b[43m.\u001b[49m\u001b[43mremove\u001b[49m\u001b[43m(\u001b[49m\u001b[32;43m5\u001b[39;49m\u001b[43m)\u001b[49m \n",
      "\u001b[31mValueError\u001b[39m: list.remove(x): x not in list"
     ]
    }
   ],
   "source": [
    "l.remove(5) "
   ]
  },
  {
   "cell_type": "code",
   "execution_count": 159,
   "id": "e679ba79-5c2f-4f63-aa37-2bedc48af4ab",
   "metadata": {},
   "outputs": [
    {
     "name": "stdout",
     "output_type": "stream",
     "text": [
      "[0, 1, 2, 2, 3, 6, 7]\n"
     ]
    }
   ],
   "source": [
    "l.remove(4) # where 4 is value not index\n",
    "print(l)"
   ]
  },
  {
   "cell_type": "code",
   "execution_count": 160,
   "id": "46451b94-924a-4127-bf41-7d2af39d59f4",
   "metadata": {},
   "outputs": [
    {
     "data": {
      "text/plain": [
       "[0, 1, 4, 9, 16, 25, 36, 49, 64, 81]"
      ]
     },
     "execution_count": 160,
     "metadata": {},
     "output_type": "execute_result"
    }
   ],
   "source": [
    "l=[]\n",
    "for i in range (10):\n",
    "    l.append(i**2)\n",
    "l"
   ]
  },
  {
   "cell_type": "code",
   "execution_count": 161,
   "id": "3e154206-dea3-4a65-85d4-18fe793ede22",
   "metadata": {},
   "outputs": [
    {
     "data": {
      "text/plain": [
       "[0, 4, 16, 36, 64]"
      ]
     },
     "execution_count": 161,
     "metadata": {},
     "output_type": "execute_result"
    }
   ],
   "source": [
    "l=[]\n",
    "for i in range (10):\n",
    "    if i%2==0:\n",
    "        l.append(i**2)\n",
    "l"
   ]
  },
  {
   "cell_type": "code",
   "execution_count": 162,
   "id": "040eb6f4-117f-410a-aab9-bf78726d054a",
   "metadata": {},
   "outputs": [
    {
     "name": "stdout",
     "output_type": "stream",
     "text": [
      "[0, 4, 16, 36, 64]\n"
     ]
    }
   ],
   "source": [
    "l = [i*i for i in range (10) if i%2==0]\n",
    "print(l)"
   ]
  },
  {
   "cell_type": "code",
   "execution_count": 163,
   "id": "6716731d-d09e-4fc4-ba64-c1485cf774c1",
   "metadata": {},
   "outputs": [
    {
     "name": "stdout",
     "output_type": "stream",
     "text": [
      "[0, 0, 0, 0, 0, 0, 0, 0, 0, 0]\n"
     ]
    }
   ],
   "source": [
    "l = [0] * 10\n",
    "print (l)"
   ]
  },
  {
   "cell_type": "code",
   "execution_count": 164,
   "id": "9b5a3efb-d01c-4970-a855-0c041f7dc90e",
   "metadata": {},
   "outputs": [
    {
     "data": {
      "text/plain": [
       "[0, 1, 2, 3, 4, 5, 6, 7, 8, 9, 10, 11, 12, 13, 14, 15, 16, 17, 18, 19]"
      ]
     },
     "execution_count": 164,
     "metadata": {},
     "output_type": "execute_result"
    }
   ],
   "source": [
    "l = [ i for i in range (20)]\n",
    "l"
   ]
  },
  {
   "cell_type": "code",
   "execution_count": 165,
   "id": "575d11fe-49c1-40d1-9eaa-e8f31ffacae5",
   "metadata": {},
   "outputs": [
    {
     "data": {
      "text/plain": [
       "[0, 1, 2, 3, 4, 5, 6, 7, 8, 9]"
      ]
     },
     "execution_count": 165,
     "metadata": {},
     "output_type": "execute_result"
    }
   ],
   "source": [
    "# l [start:stop+1:step]\n",
    "l[0:10:1]"
   ]
  },
  {
   "cell_type": "code",
   "execution_count": 166,
   "id": "94cfda73-d478-4918-992a-5201e5246c02",
   "metadata": {},
   "outputs": [
    {
     "data": {
      "text/plain": [
       "[0, 1, 2, 3, 4, 5, 6, 7, 8, 9]"
      ]
     },
     "execution_count": 166,
     "metadata": {},
     "output_type": "execute_result"
    }
   ],
   "source": [
    "l[0:10]"
   ]
  },
  {
   "cell_type": "code",
   "execution_count": 167,
   "id": "0b09c469-72c1-4152-a497-60eb3474fd4c",
   "metadata": {},
   "outputs": [
    {
     "data": {
      "text/plain": [
       "[0, 1, 2, 3, 4, 5, 6, 7, 8, 9]"
      ]
     },
     "execution_count": 167,
     "metadata": {},
     "output_type": "execute_result"
    }
   ],
   "source": [
    "l[:10]"
   ]
  },
  {
   "cell_type": "code",
   "execution_count": 168,
   "id": "d9ea15b4-e606-45b3-8de6-33086e7a95e2",
   "metadata": {},
   "outputs": [
    {
     "data": {
      "text/plain": [
       "[0, 1, 2, 3, 4, 5, 6, 7, 8, 9, 10, 11, 12, 13, 14, 15, 16, 17, 18, 19]"
      ]
     },
     "execution_count": 168,
     "metadata": {},
     "output_type": "execute_result"
    }
   ],
   "source": [
    "l[0:]"
   ]
  },
  {
   "cell_type": "code",
   "execution_count": 169,
   "id": "3b9872bf-2a6b-446c-87e0-0ba5bcae6b51",
   "metadata": {},
   "outputs": [
    {
     "data": {
      "text/plain": [
       "[0, 2, 4, 6, 8, 10, 12, 14, 16, 18]"
      ]
     },
     "execution_count": 169,
     "metadata": {},
     "output_type": "execute_result"
    }
   ],
   "source": [
    "l[0:20:2]"
   ]
  },
  {
   "cell_type": "code",
   "execution_count": 170,
   "id": "4ab247cd-dd06-4a1e-bf53-9e626b102bd6",
   "metadata": {},
   "outputs": [
    {
     "data": {
      "text/plain": [
       "[19, 18, 17, 16, 15, 14, 13, 12, 11, 10, 9, 8, 7, 6, 5, 4, 3, 2, 1, 0]"
      ]
     },
     "execution_count": 170,
     "metadata": {},
     "output_type": "execute_result"
    }
   ],
   "source": [
    "l[::-1]"
   ]
  },
  {
   "cell_type": "code",
   "execution_count": 171,
   "id": "f24c48e8-782c-4f56-a075-783ad2a6277e",
   "metadata": {},
   "outputs": [
    {
     "name": "stdout",
     "output_type": "stream",
     "text": [
      "[19, 18, 17, 16, 15, 14, 13, 12, 11, 10, 9, 8, 7, 6, 5, 4, 3, 2, 1, 0]\n"
     ]
    }
   ],
   "source": [
    "l.reverse()\n",
    "print(l)"
   ]
  },
  {
   "cell_type": "code",
   "execution_count": 172,
   "id": "c0e8b42c-fa52-4a15-bb91-3233c0b72022",
   "metadata": {},
   "outputs": [
    {
     "name": "stdout",
     "output_type": "stream",
     "text": [
      "[[1, 2, 3], [4, 5, 6]]\n",
      "5\n"
     ]
    }
   ],
   "source": [
    "l1 = [1,2,3]\n",
    "l2 = [4,5,6]\n",
    "l3 = [l1,l2]\n",
    "print (l3)\n",
    "print (l3[1][1])"
   ]
  },
  {
   "cell_type": "code",
   "execution_count": 173,
   "id": "47020336-9846-4d93-a76d-4b4250b95842",
   "metadata": {},
   "outputs": [
    {
     "data": {
      "text/plain": [
       "[[1, 2, 3], [4, 5, 6]]"
      ]
     },
     "execution_count": 173,
     "metadata": {},
     "output_type": "execute_result"
    }
   ],
   "source": [
    "l3 = [[1,2,3],[4,5,6]]\n",
    "l3"
   ]
  },
  {
   "cell_type": "code",
   "execution_count": 174,
   "id": "4397f0bc-370d-4f2b-a696-a5e2efed832b",
   "metadata": {},
   "outputs": [
    {
     "data": {
      "text/plain": [
       "[[0, 1, 2], [0, 1, 2], [0, 1, 2], [0, 1, 2], [0, 1, 2]]"
      ]
     },
     "execution_count": 174,
     "metadata": {},
     "output_type": "execute_result"
    }
   ],
   "source": [
    "l = [ [ col for col in range (3) ] for row in range (5)]\n",
    "l"
   ]
  },
  {
   "cell_type": "code",
   "execution_count": null,
   "id": "4ac42118-c3c5-4116-84de-aa63160df9d4",
   "metadata": {},
   "outputs": [],
   "source": []
  },
  {
   "cell_type": "code",
   "execution_count": 175,
   "id": "9ffbf427-c2e7-4b11-be52-f675fb77506e",
   "metadata": {},
   "outputs": [],
   "source": [
    "# Tuples (immutable list)"
   ]
  },
  {
   "cell_type": "code",
   "execution_count": 176,
   "id": "ff075f4d-8e20-473c-877b-d8921b2c5c00",
   "metadata": {},
   "outputs": [],
   "source": [
    "t = (1,2,3,4)"
   ]
  },
  {
   "cell_type": "code",
   "execution_count": 177,
   "id": "0a701ef6-1de6-49ab-90e4-187ab73a791d",
   "metadata": {},
   "outputs": [
    {
     "name": "stdout",
     "output_type": "stream",
     "text": [
      "(1,)\n"
     ]
    },
    {
     "data": {
      "text/plain": [
       "tuple"
      ]
     },
     "execution_count": 177,
     "metadata": {},
     "output_type": "execute_result"
    }
   ],
   "source": [
    "t = (1,)  # for one element only\n",
    "print(t)\n",
    "type(t)"
   ]
  },
  {
   "cell_type": "code",
   "execution_count": 178,
   "id": "ab404283-9263-4a7b-8f21-19ff3aaae33f",
   "metadata": {},
   "outputs": [
    {
     "data": {
      "text/plain": [
       "(100, 2, 3, 4, 5)"
      ]
     },
     "execution_count": 178,
     "metadata": {},
     "output_type": "execute_result"
    }
   ],
   "source": [
    "t = (1,2,3,4,5) # method to do changes in tuple\n",
    "l = list(t)\n",
    "l[0]=100\n",
    "t = tuple(l)\n",
    "t"
   ]
  },
  {
   "cell_type": "code",
   "execution_count": 179,
   "id": "c0c480a5-432a-49ec-99b1-62f6311658d5",
   "metadata": {},
   "outputs": [
    {
     "name": "stdout",
     "output_type": "stream",
     "text": [
      "(1, 2, 3, 4, 5)\n"
     ]
    },
    {
     "data": {
      "text/plain": [
       "tuple"
      ]
     },
     "execution_count": 179,
     "metadata": {},
     "output_type": "execute_result"
    }
   ],
   "source": [
    "t = 1,2,3,4,5 # packing\n",
    "print(t)\n",
    "type(t)"
   ]
  },
  {
   "cell_type": "code",
   "execution_count": 180,
   "id": "31907821-1705-4fc0-836a-63a192a02525",
   "metadata": {},
   "outputs": [
    {
     "name": "stdout",
     "output_type": "stream",
     "text": [
      "1 2 3 4 5\n"
     ]
    }
   ],
   "source": [
    "a,b,c,d,e = t  # unpacking of no.\n",
    "print (a,b,c,d,e)"
   ]
  },
  {
   "cell_type": "code",
   "execution_count": 181,
   "id": "12021b42-0780-4de9-b919-ec569b6ceb98",
   "metadata": {},
   "outputs": [
    {
     "ename": "ValueError",
     "evalue": "too many values to unpack (expected 2)",
     "output_type": "error",
     "traceback": [
      "\u001b[31m---------------------------------------------------------------------------\u001b[39m",
      "\u001b[31mValueError\u001b[39m                                Traceback (most recent call last)",
      "\u001b[36mCell\u001b[39m\u001b[36m \u001b[39m\u001b[32mIn[181]\u001b[39m\u001b[32m, line 1\u001b[39m\n\u001b[32m----> \u001b[39m\u001b[32m1\u001b[39m a,b = t\n\u001b[32m      2\u001b[39m \u001b[38;5;28mprint\u001b[39m (a,b)\n",
      "\u001b[31mValueError\u001b[39m: too many values to unpack (expected 2)"
     ]
    }
   ],
   "source": [
    "a,b = t\n",
    "print (a,b)"
   ]
  },
  {
   "cell_type": "code",
   "execution_count": 182,
   "id": "de8ec0fe-b1ae-42de-9a4b-71b07e6b9195",
   "metadata": {},
   "outputs": [
    {
     "name": "stdout",
     "output_type": "stream",
     "text": [
      "1 2 [3, 4, 5]\n"
     ]
    }
   ],
   "source": [
    "a,b,*c = t\n",
    "print (a,b,c)"
   ]
  },
  {
   "cell_type": "code",
   "execution_count": 183,
   "id": "c66a4c28-cb0b-4dac-a072-80f212e919f0",
   "metadata": {},
   "outputs": [
    {
     "data": {
      "text/plain": [
       "list"
      ]
     },
     "execution_count": 183,
     "metadata": {},
     "output_type": "execute_result"
    }
   ],
   "source": [
    "type(c)"
   ]
  },
  {
   "cell_type": "code",
   "execution_count": null,
   "id": "c48a0d87-0531-432d-9e19-bbd4c5b268d1",
   "metadata": {},
   "outputs": [],
   "source": []
  },
  {
   "cell_type": "code",
   "execution_count": null,
   "id": "c3d767ff-5a07-46ac-b069-0f309469599c",
   "metadata": {},
   "outputs": [],
   "source": []
  },
  {
   "cell_type": "code",
   "execution_count": 184,
   "id": "c58defaf-6af9-4247-98ed-fcdcf957e89c",
   "metadata": {},
   "outputs": [],
   "source": [
    "# STRING"
   ]
  },
  {
   "cell_type": "code",
   "execution_count": 212,
   "id": "95f7ce0f-da85-492d-8eab-ee3d6762fd75",
   "metadata": {},
   "outputs": [
    {
     "name": "stdout",
     "output_type": "stream",
     "text": [
      " a  \n",
      "        b\n",
      "        c\n"
     ]
    }
   ],
   "source": [
    "st = \"abcd\"\n",
    "st1 = \"\"\" a  \n",
    "        b\n",
    "        c\"\"\"  # multiple line string\n",
    "print (st1)"
   ]
  },
  {
   "cell_type": "code",
   "execution_count": 213,
   "id": "2f1fdba4-c6c6-4bb6-a6ee-d636fefa06bf",
   "metadata": {},
   "outputs": [
    {
     "data": {
      "text/plain": [
       "'bc'"
      ]
     },
     "execution_count": 213,
     "metadata": {},
     "output_type": "execute_result"
    }
   ],
   "source": [
    "st[1:3]"
   ]
  },
  {
   "cell_type": "code",
   "execution_count": 214,
   "id": "79d2279d-bedf-458a-90df-353367e6ee2e",
   "metadata": {},
   "outputs": [
    {
     "name": "stdout",
     "output_type": "stream",
     "text": [
      "True\n"
     ]
    }
   ],
   "source": [
    "s1 = \"Hello\"\n",
    "s2 = 'Hello'\n",
    "print(s1 is s2)"
   ]
  },
  {
   "cell_type": "code",
   "execution_count": 215,
   "id": "c394c011-744d-4105-84b2-686e6af9c076",
   "metadata": {},
   "outputs": [
    {
     "name": "stdout",
     "output_type": "stream",
     "text": [
      "Hello \n",
      " hello\n"
     ]
    }
   ],
   "source": [
    "s = \"Hello \\n hello\"\n",
    "print(s)"
   ]
  },
  {
   "cell_type": "code",
   "execution_count": 216,
   "id": "02d41e79-0b0a-47d4-a73b-0764f5a69005",
   "metadata": {},
   "outputs": [
    {
     "name": "stdout",
     "output_type": "stream",
     "text": [
      "H\n",
      "He\n",
      "Hel\n",
      "Hell\n",
      "Hello\n",
      "e\n",
      "el\n",
      "ell\n",
      "ello\n",
      "l\n",
      "ll\n",
      "llo\n",
      "l\n",
      "lo\n",
      "o\n"
     ]
    }
   ],
   "source": [
    "s = \"Hello\"\n",
    "for i in range (0,len(s)):\n",
    "    for j in range (i+1,len(s)+1):\n",
    "        print (s[i:j])"
   ]
  },
  {
   "cell_type": "code",
   "execution_count": 217,
   "id": "362eefd5-10ea-428e-851c-bed2b0c0be2f",
   "metadata": {},
   "outputs": [
    {
     "name": "stdout",
     "output_type": "stream",
     "text": [
      "abcdef\n"
     ]
    }
   ],
   "source": [
    "a = 'abc' + 'def'\n",
    "print(a)"
   ]
  },
  {
   "cell_type": "code",
   "execution_count": 218,
   "id": "cc16114f-d605-4b36-8b41-e309feff14fc",
   "metadata": {},
   "outputs": [
    {
     "name": "stdout",
     "output_type": "stream",
     "text": [
      "My name is: Prakhar. My age is: 21 \n",
      "My name is: Prakhar. My age is 21\n",
      "My name is: 21. My age is Prakhar\n",
      "My name is: Prakhar. My age is 21\n",
      "My name is: Prakhar. My age is: 21\n"
     ]
    }
   ],
   "source": [
    "name = 'Prakhar'\n",
    "age = 21\n",
    "# print (\"My name is: \"+ name + \". My age is: \"+ str(age))\n",
    "print (\"My name is: %s. My age is: %d \" %(name,age))\n",
    "print (\"My name is: {}. My age is {}\" .format(name,age))\n",
    "print (\"My name is: {1}. My age is {0}\" .format(name,age))\n",
    "print (\"My name is: {a}. My age is {b}\" .format(a=name,b=age))\n",
    "print (f\"My name is: {name}. My age is: {age}\")"
   ]
  },
  {
   "cell_type": "code",
   "execution_count": 219,
   "id": "3c2af15c-579d-439b-9802-763dd7aeedae",
   "metadata": {},
   "outputs": [
    {
     "name": "stdout",
     "output_type": "stream",
     "text": [
      "The sky is blue.\n",
      "The sky is blue.            \n",
      "           The sky is blue.\n"
     ]
    }
   ],
   "source": [
    "s = \"           The sky is blue.            \"\n",
    "print(s.strip())\n",
    "print(s.lstrip())\n",
    "print(s.rstrip())"
   ]
  },
  {
   "cell_type": "code",
   "execution_count": 220,
   "id": "8e3fd3fe-6de9-44b9-b2bd-8ce8687363f1",
   "metadata": {},
   "outputs": [
    {
     "data": {
      "text/plain": [
       "'Have a nice day'"
      ]
     },
     "execution_count": 220,
     "metadata": {},
     "output_type": "execute_result"
    }
   ],
   "source": [
    "s = \"have a nice day\"\n",
    "s.capitalize()"
   ]
  },
  {
   "cell_type": "code",
   "execution_count": 221,
   "id": "257927fd-5e8b-40fb-8b46-0008e0a47e0a",
   "metadata": {},
   "outputs": [
    {
     "data": {
      "text/plain": [
       "'Have A Nice Day'"
      ]
     },
     "execution_count": 221,
     "metadata": {},
     "output_type": "execute_result"
    }
   ],
   "source": [
    "s.title()"
   ]
  },
  {
   "cell_type": "code",
   "execution_count": 222,
   "id": "bd31a958-7199-4655-b47e-25dc730f8e15",
   "metadata": {},
   "outputs": [
    {
     "data": {
      "text/plain": [
       "'have a nice day'"
      ]
     },
     "execution_count": 222,
     "metadata": {},
     "output_type": "execute_result"
    }
   ],
   "source": [
    "s.casefold()"
   ]
  },
  {
   "cell_type": "code",
   "execution_count": 223,
   "id": "bdacd1c3-55dc-46b0-af4a-50fcf221b529",
   "metadata": {},
   "outputs": [
    {
     "data": {
      "text/plain": [
       "2"
      ]
     },
     "execution_count": 223,
     "metadata": {},
     "output_type": "execute_result"
    }
   ],
   "source": [
    "s = \"Hellllo\"\n",
    "s.count('ll')"
   ]
  },
  {
   "cell_type": "code",
   "execution_count": 224,
   "id": "f452bcef-e2d4-4728-aac6-850d021ff82e",
   "metadata": {},
   "outputs": [
    {
     "ename": "TypeError",
     "evalue": "'str' object does not support item assignment",
     "output_type": "error",
     "traceback": [
      "\u001b[31m---------------------------------------------------------------------------\u001b[39m",
      "\u001b[31mTypeError\u001b[39m                                 Traceback (most recent call last)",
      "\u001b[36mCell\u001b[39m\u001b[36m \u001b[39m\u001b[32mIn[224]\u001b[39m\u001b[32m, line 1\u001b[39m\n\u001b[32m----> \u001b[39m\u001b[32m1\u001b[39m \u001b[43ms\u001b[49m\u001b[43m[\u001b[49m\u001b[32;43m0\u001b[39;49m\u001b[43m]\u001b[49m=\u001b[33m'\u001b[39m\u001b[33mA\u001b[39m\u001b[33m'\u001b[39m\n",
      "\u001b[31mTypeError\u001b[39m: 'str' object does not support item assignment"
     ]
    }
   ],
   "source": [
    "s[0]='A'"
   ]
  },
  {
   "cell_type": "code",
   "execution_count": 225,
   "id": "578ec8af-b585-46b2-bc30-a765f245aec9",
   "metadata": {},
   "outputs": [
    {
     "data": {
      "text/plain": [
       "-1"
      ]
     },
     "execution_count": 225,
     "metadata": {},
     "output_type": "execute_result"
    }
   ],
   "source": [
    "s.find('lloo')"
   ]
  },
  {
   "cell_type": "code",
   "execution_count": 226,
   "id": "7a8ef6a6-7cd0-4230-a943-5903fa02b2ed",
   "metadata": {},
   "outputs": [
    {
     "name": "stdout",
     "output_type": "stream",
     "text": [
      "['The', 'sky', 'is', 'blue']\n"
     ]
    }
   ],
   "source": [
    "s = \"The sky is blue\"\n",
    "l = s.split(' ')\n",
    "print(l)"
   ]
  },
  {
   "cell_type": "code",
   "execution_count": 227,
   "id": "79a26d46-2b40-4095-8481-b78cbb03e8d2",
   "metadata": {},
   "outputs": [
    {
     "data": {
      "text/plain": [
       "['blue', 'is', 'sky', 'The']"
      ]
     },
     "execution_count": 227,
     "metadata": {},
     "output_type": "execute_result"
    }
   ],
   "source": [
    "l[::-1]"
   ]
  },
  {
   "cell_type": "code",
   "execution_count": 228,
   "id": "1a197edb-1544-4e60-b106-6ac51d5a428b",
   "metadata": {},
   "outputs": [
    {
     "data": {
      "text/plain": [
       "'blue is sky The'"
      ]
     },
     "execution_count": 228,
     "metadata": {},
     "output_type": "execute_result"
    }
   ],
   "source": [
    "' '.join(l[::-1])"
   ]
  },
  {
   "cell_type": "code",
   "execution_count": 229,
   "id": "8f894f51-f78d-4c63-b60a-1687987bca02",
   "metadata": {},
   "outputs": [
    {
     "name": "stdout",
     "output_type": "stream",
     "text": [
      "blue is sky The\n"
     ]
    }
   ],
   "source": [
    "s = \"The sky is blue\"\n",
    "str = ' '.join((s.split(' '))[::-1])\n",
    "print(str)"
   ]
  },
  {
   "cell_type": "code",
   "execution_count": 231,
   "id": "ba4d7040-6b80-445c-98d1-4552c16ab5f1",
   "metadata": {},
   "outputs": [
    {
     "data": {
      "text/plain": [
       "['0', '1', '2', '3', '4', '5', '6', '7', '8', '9']"
      ]
     },
     "execution_count": 231,
     "metadata": {},
     "output_type": "execute_result"
    }
   ],
   "source": [
    "l =[str(i) for i in range (10)]\n",
    "l"
   ]
  },
  {
   "cell_type": "code",
   "execution_count": null,
   "id": "2c36d697-525b-4777-b233-67536b0d024e",
   "metadata": {},
   "outputs": [],
   "source": []
  },
  {
   "cell_type": "code",
   "execution_count": 232,
   "id": "eda97d0c-6e0b-4905-abc0-e4812135cf58",
   "metadata": {},
   "outputs": [],
   "source": [
    "# SETS"
   ]
  },
  {
   "cell_type": "code",
   "execution_count": 233,
   "id": "c3dcb183-3f26-41c5-9ac4-0dec4bd99521",
   "metadata": {},
   "outputs": [
    {
     "data": {
      "text/plain": [
       "set"
      ]
     },
     "execution_count": 233,
     "metadata": {},
     "output_type": "execute_result"
    }
   ],
   "source": [
    "s = {1,2,3,4,\"pyq\",5}\n",
    "type(s)"
   ]
  },
  {
   "cell_type": "code",
   "execution_count": 236,
   "id": "1da77a69-c983-42dc-a89f-bae91d335351",
   "metadata": {},
   "outputs": [
    {
     "ename": "TypeError",
     "evalue": "'set' object is not subscriptable",
     "output_type": "error",
     "traceback": [
      "\u001b[31m---------------------------------------------------------------------------\u001b[39m",
      "\u001b[31mTypeError\u001b[39m                                 Traceback (most recent call last)",
      "\u001b[36mCell\u001b[39m\u001b[36m \u001b[39m\u001b[32mIn[236]\u001b[39m\u001b[32m, line 1\u001b[39m\n\u001b[32m----> \u001b[39m\u001b[32m1\u001b[39m \u001b[43ms\u001b[49m\u001b[43m[\u001b[49m\u001b[32;43m0\u001b[39;49m\u001b[43m]\u001b[49m\n",
      "\u001b[31mTypeError\u001b[39m: 'set' object is not subscriptable"
     ]
    }
   ],
   "source": [
    "s[0]"
   ]
  },
  {
   "cell_type": "code",
   "execution_count": 234,
   "id": "e3b05c48-6fb9-4d36-aec5-de162bb270c5",
   "metadata": {},
   "outputs": [
    {
     "data": {
      "text/plain": [
       "True"
      ]
     },
     "execution_count": 234,
     "metadata": {},
     "output_type": "execute_result"
    }
   ],
   "source": [
    "3 in s"
   ]
  },
  {
   "cell_type": "code",
   "execution_count": 235,
   "id": "5ae5a72c-2ec2-4989-a8cb-721e09801569",
   "metadata": {},
   "outputs": [
    {
     "data": {
      "text/plain": [
       "False"
      ]
     },
     "execution_count": 235,
     "metadata": {},
     "output_type": "execute_result"
    }
   ],
   "source": [
    "30 in s"
   ]
  },
  {
   "cell_type": "code",
   "execution_count": 237,
   "id": "48eca6be-288e-44ba-a0da-951a05ebc837",
   "metadata": {},
   "outputs": [
    {
     "data": {
      "text/plain": [
       "{0, 1, 2, 3, 4, 5, 6, 7, 8, 9}"
      ]
     },
     "execution_count": 237,
     "metadata": {},
     "output_type": "execute_result"
    }
   ],
   "source": [
    "l = [1,2,3,4,5,5,5,5,6,6,6,7,8,9,0,0]\n",
    "s = set(l)\n",
    "s"
   ]
  },
  {
   "cell_type": "code",
   "execution_count": 239,
   "id": "c64d5b17-7c7c-4b5b-b4ac-5bf4062730a2",
   "metadata": {},
   "outputs": [
    {
     "data": {
      "text/plain": [
       "{1, 2, 3, 4, 5}"
      ]
     },
     "execution_count": 239,
     "metadata": {},
     "output_type": "execute_result"
    }
   ],
   "source": [
    "s1 = {1,2,3,4}\n",
    "s1.add(5)\n",
    "s1"
   ]
  },
  {
   "cell_type": "code",
   "execution_count": 240,
   "id": "873f03f5-47d9-45f9-bfbd-8c6d1fcbd446",
   "metadata": {},
   "outputs": [],
   "source": [
    "l=[] # this create an empty list\n",
    "s=set() # this create an empty set"
   ]
  },
  {
   "cell_type": "code",
   "execution_count": 248,
   "id": "f439dab0-3885-4bdf-b443-8acfe0a3c409",
   "metadata": {},
   "outputs": [
    {
     "data": {
      "text/plain": [
       "{1, 2, 3, 4, 5, 6, 7, 8}"
      ]
     },
     "execution_count": 248,
     "metadata": {},
     "output_type": "execute_result"
    }
   ],
   "source": [
    "s1 = {1,2,3,4,5}\n",
    "s2 = {5,6,7,8}\n",
    "s1.union(s2)"
   ]
  },
  {
   "cell_type": "code",
   "execution_count": 249,
   "id": "76497488-0287-4765-b90a-50b1d7767a9d",
   "metadata": {},
   "outputs": [
    {
     "data": {
      "text/plain": [
       "{5}"
      ]
     },
     "execution_count": 249,
     "metadata": {},
     "output_type": "execute_result"
    }
   ],
   "source": [
    "s1.intersection(s2)"
   ]
  },
  {
   "cell_type": "code",
   "execution_count": 250,
   "id": "caffb006-bf1a-4bc8-a825-ba7a4f3419c6",
   "metadata": {},
   "outputs": [
    {
     "data": {
      "text/plain": [
       "{1, 2, 3, 4, 5}"
      ]
     },
     "execution_count": 250,
     "metadata": {},
     "output_type": "execute_result"
    }
   ],
   "source": [
    "s1"
   ]
  },
  {
   "cell_type": "code",
   "execution_count": 251,
   "id": "1e34d72c-4aa1-4f1f-ab37-c0a52eeea320",
   "metadata": {},
   "outputs": [
    {
     "data": {
      "text/plain": [
       "1"
      ]
     },
     "execution_count": 251,
     "metadata": {},
     "output_type": "execute_result"
    }
   ],
   "source": [
    "s1.pop()"
   ]
  },
  {
   "cell_type": "code",
   "execution_count": 252,
   "id": "5ce26e3c-c90a-478f-bd3e-beffd21515ea",
   "metadata": {},
   "outputs": [
    {
     "data": {
      "text/plain": [
       "2"
      ]
     },
     "execution_count": 252,
     "metadata": {},
     "output_type": "execute_result"
    }
   ],
   "source": [
    "s1.pop()"
   ]
  },
  {
   "cell_type": "code",
   "execution_count": 253,
   "id": "ae7111af-64ca-416c-9265-5c6229654936",
   "metadata": {},
   "outputs": [
    {
     "data": {
      "text/plain": [
       "{3, 4, 5}"
      ]
     },
     "execution_count": 253,
     "metadata": {},
     "output_type": "execute_result"
    }
   ],
   "source": [
    "s1"
   ]
  },
  {
   "cell_type": "code",
   "execution_count": 254,
   "id": "6c638980-050e-4222-9341-747fce93722c",
   "metadata": {},
   "outputs": [],
   "source": [
    "s1.remove(3)"
   ]
  },
  {
   "cell_type": "code",
   "execution_count": 255,
   "id": "5a78f6d0-e8ce-4b7a-a454-c067b85d50e8",
   "metadata": {},
   "outputs": [
    {
     "data": {
      "text/plain": [
       "{4, 5}"
      ]
     },
     "execution_count": 255,
     "metadata": {},
     "output_type": "execute_result"
    }
   ],
   "source": [
    "s1"
   ]
  },
  {
   "cell_type": "code",
   "execution_count": 256,
   "id": "4beffb94-e455-4e99-a5a9-6d411eb92cfe",
   "metadata": {},
   "outputs": [],
   "source": [
    "s1.discard(4)"
   ]
  },
  {
   "cell_type": "code",
   "execution_count": 257,
   "id": "8d2da50e-1ce3-4401-8bfa-2870bfcc5443",
   "metadata": {},
   "outputs": [
    {
     "data": {
      "text/plain": [
       "{5}"
      ]
     },
     "execution_count": 257,
     "metadata": {},
     "output_type": "execute_result"
    }
   ],
   "source": [
    "s1"
   ]
  },
  {
   "cell_type": "code",
   "execution_count": 258,
   "id": "270061f3-1972-41d2-975d-4d520292c9e0",
   "metadata": {},
   "outputs": [
    {
     "data": {
      "text/plain": [
       "True"
      ]
     },
     "execution_count": 258,
     "metadata": {},
     "output_type": "execute_result"
    }
   ],
   "source": [
    "s2={1,2,3,4,5}\n",
    "s1.issubset(s2)"
   ]
  },
  {
   "cell_type": "code",
   "execution_count": 259,
   "id": "c2667382-a57c-4b41-8204-4bf98a9bf506",
   "metadata": {},
   "outputs": [
    {
     "data": {
      "text/plain": [
       "True"
      ]
     },
     "execution_count": 259,
     "metadata": {},
     "output_type": "execute_result"
    }
   ],
   "source": [
    "s2.issuperset(s1)"
   ]
  },
  {
   "cell_type": "code",
   "execution_count": 260,
   "id": "c9e0e1e2-52c9-4370-92de-1485d969942d",
   "metadata": {},
   "outputs": [
    {
     "data": {
      "text/plain": [
       "False"
      ]
     },
     "execution_count": 260,
     "metadata": {},
     "output_type": "execute_result"
    }
   ],
   "source": [
    "s1.isdisjoint(s2)"
   ]
  },
  {
   "cell_type": "code",
   "execution_count": 261,
   "id": "93571c81-7baa-4ed4-a4cf-355f69a57e76",
   "metadata": {},
   "outputs": [
    {
     "ename": "TypeError",
     "evalue": "'set' object is not subscriptable",
     "output_type": "error",
     "traceback": [
      "\u001b[31m---------------------------------------------------------------------------\u001b[39m",
      "\u001b[31mTypeError\u001b[39m                                 Traceback (most recent call last)",
      "\u001b[36mCell\u001b[39m\u001b[36m \u001b[39m\u001b[32mIn[261]\u001b[39m\u001b[32m, line 1\u001b[39m\n\u001b[32m----> \u001b[39m\u001b[32m1\u001b[39m \u001b[43ms1\u001b[49m\u001b[43m[\u001b[49m\u001b[32;43m0\u001b[39;49m\u001b[43m]\u001b[49m\n",
      "\u001b[31mTypeError\u001b[39m: 'set' object is not subscriptable"
     ]
    }
   ],
   "source": [
    "s1[0]  # no indexing"
   ]
  },
  {
   "cell_type": "code",
   "execution_count": 262,
   "id": "445ed643-8ef7-48f2-a57f-5f1d9c6c2ef9",
   "metadata": {},
   "outputs": [
    {
     "name": "stdout",
     "output_type": "stream",
     "text": [
      "5\n"
     ]
    }
   ],
   "source": [
    "for ele in s1:\n",
    "    print(ele)"
   ]
  },
  {
   "cell_type": "code",
   "execution_count": null,
   "id": "0eedc51d-99b7-4cd3-b6d5-46da9dd1610b",
   "metadata": {},
   "outputs": [],
   "source": []
  },
  {
   "cell_type": "code",
   "execution_count": 263,
   "id": "aeddf0d1-67c1-403c-a14d-b6e2a7378d08",
   "metadata": {},
   "outputs": [],
   "source": [
    "#Dictionary\n",
    "# immutable keys"
   ]
  },
  {
   "cell_type": "code",
   "execution_count": 268,
   "id": "9a72633d-4b7d-4f82-8df5-9f7b201969f7",
   "metadata": {},
   "outputs": [
    {
     "data": {
      "text/plain": [
       "(dict, {'India': 1000, 'USSR': 150, 1.1: 'one', (1, 2, 3): 'Tuple'})"
      ]
     },
     "execution_count": 268,
     "metadata": {},
     "output_type": "execute_result"
    }
   ],
   "source": [
    "d = {\n",
    "    \"India\" : 1000,\n",
    "    \"USSR\" : 150,\n",
    "    1.1 : \"one\",\n",
    "    (1,2,3) : \"Tuple\",\n",
    "   # [1,2,3]:\"List\"\n",
    "}\n",
    "type(d),d"
   ]
  },
  {
   "cell_type": "code",
   "execution_count": 269,
   "id": "8da4a01f-4465-414f-ae26-d905fce435c2",
   "metadata": {},
   "outputs": [
    {
     "data": {
      "text/plain": [
       "{'India': 100, 'USSR': 150, 1.1: 'one', (1, 2, 3): 'Tuple', 'China': 90}"
      ]
     },
     "execution_count": 269,
     "metadata": {},
     "output_type": "execute_result"
    }
   ],
   "source": [
    "d[\"India\"]=100  # updation\n",
    "d[\"China\"]=90  # Adding new key value pair\n",
    "d"
   ]
  },
  {
   "cell_type": "code",
   "execution_count": 270,
   "id": "45e38ee1-315b-4510-8492-bd6f002190b2",
   "metadata": {},
   "outputs": [
    {
     "data": {
      "text/plain": [
       "150"
      ]
     },
     "execution_count": 270,
     "metadata": {},
     "output_type": "execute_result"
    }
   ],
   "source": [
    "d[\"USSR\"]"
   ]
  },
  {
   "cell_type": "code",
   "execution_count": 271,
   "id": "17019499-e2ad-4b81-aa1f-f8940854b719",
   "metadata": {},
   "outputs": [
    {
     "ename": "KeyError",
     "evalue": "3",
     "output_type": "error",
     "traceback": [
      "\u001b[31m---------------------------------------------------------------------------\u001b[39m",
      "\u001b[31mKeyError\u001b[39m                                  Traceback (most recent call last)",
      "\u001b[36mCell\u001b[39m\u001b[36m \u001b[39m\u001b[32mIn[271]\u001b[39m\u001b[32m, line 1\u001b[39m\n\u001b[32m----> \u001b[39m\u001b[32m1\u001b[39m \u001b[43md\u001b[49m\u001b[43m[\u001b[49m\u001b[32;43m3\u001b[39;49m\u001b[43m]\u001b[49m\n",
      "\u001b[31mKeyError\u001b[39m: 3"
     ]
    }
   ],
   "source": [
    "d[3]"
   ]
  },
  {
   "cell_type": "code",
   "execution_count": 272,
   "id": "0932a563-9b5a-4765-a79b-c6eaf5861d8e",
   "metadata": {},
   "outputs": [
    {
     "name": "stdout",
     "output_type": "stream",
     "text": [
      "Not found\n"
     ]
    }
   ],
   "source": [
    "print(d.get(3,\"Not found\"))"
   ]
  },
  {
   "cell_type": "code",
   "execution_count": 273,
   "id": "54393565-8e07-4dc4-8509-9b8bc728a053",
   "metadata": {},
   "outputs": [
    {
     "data": {
      "text/plain": [
       "90"
      ]
     },
     "execution_count": 273,
     "metadata": {},
     "output_type": "execute_result"
    }
   ],
   "source": [
    "d.pop(\"China\",\"Not found\")"
   ]
  },
  {
   "cell_type": "code",
   "execution_count": 274,
   "id": "f2c41977-0e40-4ff4-867e-775206ecbefd",
   "metadata": {},
   "outputs": [
    {
     "data": {
      "text/plain": [
       "((1, 2, 3), 'Tuple')"
      ]
     },
     "execution_count": 274,
     "metadata": {},
     "output_type": "execute_result"
    }
   ],
   "source": [
    "d.popitem()"
   ]
  },
  {
   "cell_type": "code",
   "execution_count": 275,
   "id": "c4fa3b36-fb94-4c11-9760-fbef52bdc4f0",
   "metadata": {},
   "outputs": [
    {
     "data": {
      "text/plain": [
       "{'India': 100, 'USSR': 150, 1.1: 'one'}"
      ]
     },
     "execution_count": 275,
     "metadata": {},
     "output_type": "execute_result"
    }
   ],
   "source": [
    "d"
   ]
  },
  {
   "cell_type": "code",
   "execution_count": 276,
   "id": "6ed3f526-921d-40e2-8cd1-6d30884874f0",
   "metadata": {},
   "outputs": [
    {
     "data": {
      "text/plain": [
       "dict_keys(['India', 'USSR', 1.1])"
      ]
     },
     "execution_count": 276,
     "metadata": {},
     "output_type": "execute_result"
    }
   ],
   "source": [
    "d.keys()"
   ]
  },
  {
   "cell_type": "code",
   "execution_count": 277,
   "id": "9bc6dd15-6367-4f00-8470-5eca4d8032ad",
   "metadata": {},
   "outputs": [
    {
     "data": {
      "text/plain": [
       "dict_values([100, 150, 'one'])"
      ]
     },
     "execution_count": 277,
     "metadata": {},
     "output_type": "execute_result"
    }
   ],
   "source": [
    "d.values()"
   ]
  },
  {
   "cell_type": "code",
   "execution_count": 278,
   "id": "10605bbc-a5ac-441d-a785-52482c984e66",
   "metadata": {},
   "outputs": [
    {
     "data": {
      "text/plain": [
       "dict_items([('India', 100), ('USSR', 150), (1.1, 'one')])"
      ]
     },
     "execution_count": 278,
     "metadata": {},
     "output_type": "execute_result"
    }
   ],
   "source": [
    "d.items()"
   ]
  },
  {
   "cell_type": "code",
   "execution_count": 279,
   "id": "d925e200-d7e7-4f89-ad28-d650c2a4cb27",
   "metadata": {},
   "outputs": [
    {
     "data": {
      "text/plain": [
       "{1: 'Numbers', 2: 'Numbers', 3: 'Numbers', 4: 'Numbers'}"
      ]
     },
     "execution_count": 279,
     "metadata": {},
     "output_type": "execute_result"
    }
   ],
   "source": [
    "d1 = d.fromkeys([1,2,3,4],\"Numbers\")\n",
    "d1"
   ]
  },
  {
   "cell_type": "code",
   "execution_count": 280,
   "id": "e318f848-db62-4a20-ac5f-d3aa692140c0",
   "metadata": {},
   "outputs": [],
   "source": [
    "d.update(d1)"
   ]
  },
  {
   "cell_type": "code",
   "execution_count": 281,
   "id": "55d6a852-7f6e-4e19-9d60-85ea92488613",
   "metadata": {},
   "outputs": [
    {
     "data": {
      "text/plain": [
       "{'India': 100,\n",
       " 'USSR': 150,\n",
       " 1.1: 'one',\n",
       " 1: 'Numbers',\n",
       " 2: 'Numbers',\n",
       " 3: 'Numbers',\n",
       " 4: 'Numbers'}"
      ]
     },
     "execution_count": 281,
     "metadata": {},
     "output_type": "execute_result"
    }
   ],
   "source": [
    "d"
   ]
  },
  {
   "cell_type": "code",
   "execution_count": 283,
   "id": "b140db5f-ac5c-44ea-9112-c74150e0dee2",
   "metadata": {},
   "outputs": [
    {
     "data": {
      "text/plain": [
       "True"
      ]
     },
     "execution_count": 283,
     "metadata": {},
     "output_type": "execute_result"
    }
   ],
   "source": [
    "\"India\" in d  # check only keys"
   ]
  },
  {
   "cell_type": "code",
   "execution_count": 284,
   "id": "34eb5c12-c0ac-4e4f-9837-eb4f04f8c4d6",
   "metadata": {},
   "outputs": [
    {
     "name": "stdout",
     "output_type": "stream",
     "text": [
      "India\n",
      "USSR\n",
      "1.1\n",
      "1\n",
      "2\n",
      "3\n",
      "4\n"
     ]
    }
   ],
   "source": [
    "for k in d:\n",
    "    print(k)"
   ]
  },
  {
   "cell_type": "code",
   "execution_count": 285,
   "id": "adf54cd1-9cde-4832-baf0-6370d4b631dd",
   "metadata": {},
   "outputs": [
    {
     "name": "stdout",
     "output_type": "stream",
     "text": [
      "India 100\n",
      "USSR 150\n",
      "1.1 one\n",
      "1 Numbers\n",
      "2 Numbers\n",
      "3 Numbers\n",
      "4 Numbers\n"
     ]
    }
   ],
   "source": [
    "for k,v in d.items():\n",
    "    print (k,v)\n",
    "    "
   ]
  },
  {
   "cell_type": "code",
   "execution_count": 286,
   "id": "5d12bfba-bfc7-4909-b63d-b3b2d1c7270e",
   "metadata": {},
   "outputs": [
    {
     "data": {
      "text/plain": [
       "{0, 1, 2, 3, 4, 5, 6, 7, 8, 9}"
      ]
     },
     "execution_count": 286,
     "metadata": {},
     "output_type": "execute_result"
    }
   ],
   "source": [
    "s = set()\n",
    "for i in range(10):\n",
    "    s.add(i)\n",
    "s"
   ]
  },
  {
   "cell_type": "code",
   "execution_count": 287,
   "id": "db444246-70d5-4d87-a459-08790d4c82da",
   "metadata": {},
   "outputs": [
    {
     "data": {
      "text/plain": [
       "{0, 1, 2, 3, 4, 5, 6, 7, 8, 9}"
      ]
     },
     "execution_count": 287,
     "metadata": {},
     "output_type": "execute_result"
    }
   ],
   "source": [
    "s = {i for i in range(10)} # set comprehension\n",
    "s"
   ]
  },
  {
   "cell_type": "code",
   "execution_count": 288,
   "id": "7aa769e8-6ab7-4431-bdaa-45ccfbf116fa",
   "metadata": {},
   "outputs": [],
   "source": [
    "d = {}  # dictionary comprehension\n",
    "for i in range (10):\n",
    "    d[i]=i**2"
   ]
  },
  {
   "cell_type": "code",
   "execution_count": 289,
   "id": "fd4356da-273b-4ac4-84d9-bf2cc1881d00",
   "metadata": {},
   "outputs": [
    {
     "data": {
      "text/plain": [
       "{0: 0, 1: 1, 2: 4, 3: 9, 4: 16, 5: 25, 6: 36, 7: 49, 8: 64, 9: 81}"
      ]
     },
     "execution_count": 289,
     "metadata": {},
     "output_type": "execute_result"
    }
   ],
   "source": [
    "d"
   ]
  },
  {
   "cell_type": "code",
   "execution_count": 291,
   "id": "467eb6b3-a60d-4a5d-b897-444eff2ac31c",
   "metadata": {},
   "outputs": [
    {
     "data": {
      "text/plain": [
       "Counter({3: 4, 5: 3, 1: 2, 4: 2, 6: 2, 8: 2, 2: 1, 7: 1, 9: 1, 0: 1})"
      ]
     },
     "execution_count": 291,
     "metadata": {},
     "output_type": "execute_result"
    }
   ],
   "source": [
    "l = [1,2,3,1,4,5,4,3,6,7,8,3,5,8,9,0,3,5,6]  # frequency\n",
    "from collections import Counter\n",
    "d = Counter(l)\n",
    "d"
   ]
  },
  {
   "cell_type": "code",
   "execution_count": 293,
   "id": "4d44282d-49d3-472f-8da2-549f17b02152",
   "metadata": {},
   "outputs": [
    {
     "data": {
      "text/plain": [
       "{1: 2, 2: 1, 3: 4, 4: 2, 5: 3, 6: 2, 7: 1, 8: 2, 9: 1, 0: 1}"
      ]
     },
     "execution_count": 293,
     "metadata": {},
     "output_type": "execute_result"
    }
   ],
   "source": [
    "d={}\n",
    "for ele in l:\n",
    "    # if ele in d:\n",
    "    #     d[ele]=d[ele]+1\n",
    "    # else:\n",
    "    #     d[ele]=1\n",
    "    d[ele] = d.get(ele,0)+1\n",
    "d"
   ]
  },
  {
   "cell_type": "code",
   "execution_count": null,
   "id": "f8105507-73dd-47b6-a5d3-eb1757157b75",
   "metadata": {},
   "outputs": [],
   "source": []
  }
 ],
 "metadata": {
  "kernelspec": {
   "display_name": "Python 3 (ipykernel)",
   "language": "python",
   "name": "python3"
  },
  "language_info": {
   "codemirror_mode": {
    "name": "ipython",
    "version": 3
   },
   "file_extension": ".py",
   "mimetype": "text/x-python",
   "name": "python",
   "nbconvert_exporter": "python",
   "pygments_lexer": "ipython3",
   "version": "3.12.10"
  }
 },
 "nbformat": 4,
 "nbformat_minor": 5
}
