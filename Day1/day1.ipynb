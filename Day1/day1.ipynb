{
 "cells": [
  {
   "cell_type": "code",
   "execution_count": 2,
   "id": "f1f43648-a0df-4913-a19e-b247a3cc16fb",
   "metadata": {},
   "outputs": [
    {
     "name": "stdout",
     "output_type": "stream",
     "text": [
      "hello world\n"
     ]
    }
   ],
   "source": [
    "print (\"hello world\")"
   ]
  },
  {
   "cell_type": "code",
   "execution_count": 3,
   "id": "156924ce-8c0f-4e5f-85a4-a95c97e5dab5",
   "metadata": {},
   "outputs": [],
   "source": [
    "import numpy"
   ]
  },
  {
   "cell_type": "code",
   "execution_count": 4,
   "id": "717a6b8a-4f30-49df-a486-57f043a9c590",
   "metadata": {},
   "outputs": [],
   "source": [
    "arr = numpy.random.randint(1,10,5)"
   ]
  },
  {
   "cell_type": "code",
   "execution_count": 5,
   "id": "99bc1575-ab92-4778-97c9-03f71f24be5a",
   "metadata": {},
   "outputs": [
    {
     "name": "stdout",
     "output_type": "stream",
     "text": [
      "[6 1 4 2 3]\n"
     ]
    }
   ],
   "source": [
    "print (arr)\n"
   ]
  },
  {
   "cell_type": "code",
   "execution_count": 6,
   "id": "214f7f5d-5fd7-4481-a399-3c2caa7bd78e",
   "metadata": {},
   "outputs": [],
   "source": [
    "import matplotlib"
   ]
  },
  {
   "cell_type": "code",
   "execution_count": 7,
   "id": "6ce4cb3a-2369-40cd-a772-b1311afe874f",
   "metadata": {},
   "outputs": [
    {
     "name": "stdout",
     "output_type": "stream",
     "text": [
      "['False', 'None', 'True', 'and', 'as', 'assert', 'async', 'await', 'break', 'class', 'continue', 'def', 'del', 'elif', 'else', 'except', 'finally', 'for', 'from', 'global', 'if', 'import', 'in', 'is', 'lambda', 'nonlocal', 'not', 'or', 'pass', 'raise', 'return', 'try', 'while', 'with', 'yield'] 35\n"
     ]
    }
   ],
   "source": [
    "import keyword\n",
    "print (keyword.kwlist,len(keyword.kwlist))"
   ]
  },
  {
   "cell_type": "code",
   "execution_count": 8,
   "id": "2c3fe511-8181-47f5-b897-29188466e0df",
   "metadata": {},
   "outputs": [],
   "source": [
    "# python variable stores reference not values"
   ]
  },
  {
   "cell_type": "code",
   "execution_count": 9,
   "id": "00875bfc-d506-49da-9ea7-e75c4f33a0c9",
   "metadata": {},
   "outputs": [
    {
     "name": "stdout",
     "output_type": "stream",
     "text": [
      "True\n"
     ]
    }
   ],
   "source": [
    "a = 10\n",
    "b = 10\n",
    "print (id(a)==id(b))"
   ]
  },
  {
   "cell_type": "code",
   "execution_count": 10,
   "id": "72b5ecf3-373d-4c2b-a566-63207305bc86",
   "metadata": {},
   "outputs": [
    {
     "name": "stdout",
     "output_type": "stream",
     "text": [
      "False\n"
     ]
    }
   ],
   "source": [
    "a = 257\n",
    "b = 257\n",
    "print (id(a)==id(b))"
   ]
  },
  {
   "cell_type": "code",
   "execution_count": 11,
   "id": "530762b5-294c-4ae6-82b8-95ac60b49992",
   "metadata": {},
   "outputs": [],
   "source": [
    "# -5 to 256 values got stored in cache memory that's why both variable a and b stores the same reference"
   ]
  },
  {
   "cell_type": "code",
   "execution_count": 12,
   "id": "36d401e7-b658-4a5c-bf6c-21b0dd3437d4",
   "metadata": {},
   "outputs": [
    {
     "name": "stdout",
     "output_type": "stream",
     "text": [
      "10 hello 20\n"
     ]
    }
   ],
   "source": [
    "a= 10\n",
    "b10 = 'hello'\n",
    "_a = 20\n",
    "print (a,b10,_a)"
   ]
  },
  {
   "cell_type": "code",
   "execution_count": 13,
   "id": "912f762f-cc76-4b3e-b9c4-9e2c6a66dba0",
   "metadata": {},
   "outputs": [
    {
     "name": "stdout",
     "output_type": "stream",
     "text": [
      "10 20\n"
     ]
    }
   ],
   "source": [
    "a , b =10,20\n",
    "print (a,b)"
   ]
  },
  {
   "cell_type": "code",
   "execution_count": 14,
   "id": "6b0f6c31-4afd-42ca-927b-76eca5ab68ab",
   "metadata": {},
   "outputs": [
    {
     "name": "stdout",
     "output_type": "stream",
     "text": [
      "150\n"
     ]
    }
   ],
   "source": [
    "a = 10 +20 + \\\n",
    "    30 + 40 +\\\n",
    "    50\n",
    "print (a)"
   ]
  },
  {
   "cell_type": "code",
   "execution_count": 15,
   "id": "4d57509a-458f-47ba-9a31-ca936b5cf074",
   "metadata": {},
   "outputs": [
    {
     "data": {
      "text/plain": [
       "'Multiple \\nline\\ncomment'"
      ]
     },
     "execution_count": 15,
     "metadata": {},
     "output_type": "execute_result"
    }
   ],
   "source": [
    "\"\"\"Multiple \n",
    "line\n",
    "comment\"\"\""
   ]
  },
  {
   "cell_type": "code",
   "execution_count": 19,
   "id": "b9ba080b-20ad-4626-9d73-d6e3565056d5",
   "metadata": {},
   "outputs": [
    {
     "name": "stdout",
     "output_type": "stream",
     "text": [
      "<class 'int'>\n",
      "<class 'float'>\n",
      "<class 'complex'>\n",
      "<class 'list'>\n",
      "<class 'bool'>\n",
      "<class 'NoneType'>\n"
     ]
    }
   ],
   "source": [
    "a = 100000000000000000000000000000000000000000000000\n",
    "b = 10.3\n",
    "c = 2 + 5j\n",
    "d = [1,2,3]\n",
    "e = True\n",
    "f = None\n",
    "print (type(a))\n",
    "print (type(b))\n",
    "print (type(c))\n",
    "print (type(d))\n",
    "print (type(e))\n",
    "print (type(f))\n"
   ]
  },
  {
   "cell_type": "code",
   "execution_count": 21,
   "id": "9f5b98e4-e0cb-4a2b-879f-aee74c963f58",
   "metadata": {},
   "outputs": [
    {
     "name": "stdout",
     "output_type": "stream",
     "text": [
      "10\n",
      "10.0\n"
     ]
    }
   ],
   "source": [
    "print (int (10.5))\n",
    "print (float (10))"
   ]
  },
  {
   "cell_type": "code",
   "execution_count": 22,
   "id": "2855fc8d-b0b7-4edb-b16a-10f775e80011",
   "metadata": {},
   "outputs": [
    {
     "name": "stdout",
     "output_type": "stream",
     "text": [
      "3.3333333333333335\n",
      "3\n"
     ]
    }
   ],
   "source": [
    "print (10/3)\n",
    "print (10//3)"
   ]
  },
  {
   "cell_type": "code",
   "execution_count": 24,
   "id": "100dd18c-9ad7-4f27-8c2c-18eff6dfe944",
   "metadata": {},
   "outputs": [
    {
     "name": "stdout",
     "output_type": "stream",
     "text": [
      "True\n"
     ]
    }
   ],
   "source": [
    "a = 10\n",
    "b = 10\n",
    "c = a <= b\n",
    "print (c)"
   ]
  },
  {
   "cell_type": "code",
   "execution_count": 25,
   "id": "ebdbb5b2-884e-4de8-ba22-095440e877a5",
   "metadata": {},
   "outputs": [
    {
     "name": "stdout",
     "output_type": "stream",
     "text": [
      "True\n"
     ]
    }
   ],
   "source": [
    "a = 257 \n",
    "b = a\n",
    "print (id(a)==id(b))"
   ]
  },
  {
   "cell_type": "code",
   "execution_count": 28,
   "id": "eea551cb-579b-463e-9e17-85911331f3e6",
   "metadata": {},
   "outputs": [
    {
     "name": "stdout",
     "output_type": "stream",
     "text": [
      "C\n"
     ]
    }
   ],
   "source": [
    "marks = 50\n",
    "if 80 < marks <=100:\n",
    "    print('A')\n",
    "elif 60 < marks <=80:\n",
    "    print('B')\n",
    "elif 40 < marks <=60:\n",
    "    print ('C')\n",
    "elif 0 <= marks <= 40:\n",
    "    print ('Fail')\n",
    "else:\n",
    "    print ('Not Valid')"
   ]
  },
  {
   "cell_type": "code",
   "execution_count": null,
   "id": "ddbc4ba2-5559-4ed6-983f-16a87e083dbf",
   "metadata": {},
   "outputs": [],
   "source": []
  }
 ],
 "metadata": {
  "kernelspec": {
   "display_name": "Python 3 (ipykernel)",
   "language": "python",
   "name": "python3"
  },
  "language_info": {
   "codemirror_mode": {
    "name": "ipython",
    "version": 3
   },
   "file_extension": ".py",
   "mimetype": "text/x-python",
   "name": "python",
   "nbconvert_exporter": "python",
   "pygments_lexer": "ipython3",
   "version": "3.12.10"
  }
 },
 "nbformat": 4,
 "nbformat_minor": 5
}
